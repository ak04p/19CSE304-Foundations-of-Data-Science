{
  "nbformat": 4,
  "nbformat_minor": 0,
  "metadata": {
    "colab": {
      "provenance": [],
      "collapsed_sections": []
    },
    "kernelspec": {
      "name": "python3",
      "display_name": "Python 3"
    },
    "language_info": {
      "name": "python"
    }
  },
  "cells": [
    {
      "cell_type": "markdown",
      "source": [
        "1.\tGenerate a tuple from the set [\"aman\", \"222\", 777, 400.4]"
      ],
      "metadata": {
        "id": "Pwd6ShONTDNo"
      }
    },
    {
      "cell_type": "code",
      "execution_count": null,
      "metadata": {
        "colab": {
          "base_uri": "https://localhost:8080/"
        },
        "id": "CH9E4vUAS0bS",
        "outputId": "ee2c37bc-666b-4be2-c235-c773ad0437f5"
      },
      "outputs": [
        {
          "output_type": "stream",
          "name": "stdout",
          "text": [
            "('aman', '222', 777, 400.4)\n"
          ]
        }
      ],
      "source": [
        "tup = (\"aman\", \"222\", 777, 400.4)\n",
        "print(tup)"
      ]
    },
    {
      "cell_type": "markdown",
      "source": [
        "2.\tCreate a dictionary of your basic data: (a) Roll No (b) Last Name (c) First Name (d) Date of birth. Print out the values and keys."
      ],
      "metadata": {
        "id": "zzDRmZM6T1QZ"
      }
    },
    {
      "cell_type": "code",
      "source": [
        "myDict = {\"roll_no\": \"CB.EN.U4CSE20205\", \"first_name\": \"Akshita Prasanth\", \"last_name\": \"Pallithodiyil\", \"dob\": \"04/11/2002\"}\n",
        "print(myDict)"
      ],
      "metadata": {
        "colab": {
          "base_uri": "https://localhost:8080/"
        },
        "id": "n4xV0xtvT5_N",
        "outputId": "fdb03b36-71e8-4ae8-c1ef-e66d30b93719"
      },
      "execution_count": null,
      "outputs": [
        {
          "output_type": "stream",
          "name": "stdout",
          "text": [
            "{'roll_no': 'CB.EN.U4CSE20205', 'first_name': 'Akshita Prasanth', 'last_name': 'Pallithodiyil', 'dob': '04/11/2002'}\n"
          ]
        }
      ]
    },
    {
      "cell_type": "markdown",
      "source": [
        "3.\tUse rand function to generate a 2-dimensional random array with seed."
      ],
      "metadata": {
        "id": "gP8IT0S_UUYu"
      }
    },
    {
      "cell_type": "code",
      "source": [
        "from numpy import random\n",
        "random.seed(0)\n",
        "arr = random.randint(100, size = (2, 3))\n",
        "print(arr)"
      ],
      "metadata": {
        "colab": {
          "base_uri": "https://localhost:8080/"
        },
        "id": "X4u1V-BlUXu3",
        "outputId": "89a33ba2-8a51-4289-c7da-71e3664c1ce7"
      },
      "execution_count": null,
      "outputs": [
        {
          "output_type": "stream",
          "name": "stdout",
          "text": [
            "[[44 47 64]\n",
            " [67 67  9]]\n"
          ]
        }
      ]
    },
    {
      "cell_type": "markdown",
      "source": [
        "4.\tGenerate a single random number in [0.0, 1.0]. Find the absolute value of (-1234)"
      ],
      "metadata": {
        "id": "g2n-Z2z8XGL8"
      }
    },
    {
      "cell_type": "code",
      "source": [
        "print(random.rand())\n",
        "print(abs(-1234))"
      ],
      "metadata": {
        "colab": {
          "base_uri": "https://localhost:8080/"
        },
        "id": "tl8D6m2lXJH7",
        "outputId": "dc81adce-20ec-48cd-887e-d7e5f4f14db1"
      },
      "execution_count": null,
      "outputs": [
        {
          "output_type": "stream",
          "name": "stdout",
          "text": [
            "0.6235636967859723\n",
            "1234\n"
          ]
        }
      ]
    },
    {
      "cell_type": "markdown",
      "source": [
        "5.\tReturn a random integer N such that 20 <= N <= 90. "
      ],
      "metadata": {
        "id": "kCtaZnr0XWWH"
      }
    },
    {
      "cell_type": "code",
      "source": [
        "print(random.randint(20, 90))"
      ],
      "metadata": {
        "colab": {
          "base_uri": "https://localhost:8080/"
        },
        "id": "ax9SG4jTXZ9t",
        "outputId": "2caacaa3-2845-46ee-c113-3696abf8c658"
      },
      "execution_count": null,
      "outputs": [
        {
          "output_type": "stream",
          "name": "stdout",
          "text": [
            "56\n"
          ]
        }
      ]
    },
    {
      "cell_type": "markdown",
      "source": [
        "6.\tGiven a population or set[11, 12, 13,14, 15]\n",
        "*   Return a 3 length list of unique elements without replacement.\n",
        "*   Shuffle the above set\n",
        "*   Print a random number from the set"
      ],
      "metadata": {
        "id": "17bar02AY1id"
      }
    },
    {
      "cell_type": "code",
      "source": [
        "import random as rd\n",
        "my_set = [11, 12, 13, 14, 15]\n",
        "l = rd.sample(my_set, 3)\n",
        "print(l)\n",
        "rd.shuffle(my_set)\n",
        "print(my_set)\n",
        "print(random.choice(my_set))"
      ],
      "metadata": {
        "id": "XB9wQpT9YxzS",
        "colab": {
          "base_uri": "https://localhost:8080/"
        },
        "outputId": "b8d40a5b-7631-4e93-d499-6351ce94dea0"
      },
      "execution_count": null,
      "outputs": [
        {
          "output_type": "stream",
          "name": "stdout",
          "text": [
            "[15, 11, 12]\n",
            "[14, 15, 13, 11, 12]\n",
            "14\n"
          ]
        }
      ]
    },
    {
      "cell_type": "markdown",
      "source": [
        "7.\tWrite the text \"The King is Dead, Long Live The King\" on to a file in your hard drive; read and print the text."
      ],
      "metadata": {
        "id": "lb6dN7dtZQJk"
      }
    },
    {
      "cell_type": "code",
      "source": [
        "f = open('king.txt', 'w')\n",
        "f.write(\"The King is Dead, Long Live The King\")\n",
        "f.close()\n",
        "fi = open('king.txt', 'r')\n",
        "fi.read()"
      ],
      "metadata": {
        "colab": {
          "base_uri": "https://localhost:8080/",
          "height": 35
        },
        "id": "S4IVJHziZUMX",
        "outputId": "d32b2bb3-eacc-4477-f036-2e1f1e2455da"
      },
      "execution_count": null,
      "outputs": [
        {
          "output_type": "execute_result",
          "data": {
            "text/plain": [
              "'The King is Dead, Long Live The King'"
            ],
            "application/vnd.google.colaboratory.intrinsic+json": {
              "type": "string"
            }
          },
          "metadata": {},
          "execution_count": 34
        }
      ]
    },
    {
      "cell_type": "markdown",
      "source": [
        "8.\tCreate an illustrative function to demonstrate use of: if, elif and else (b) for, while, break and continue. "
      ],
      "metadata": {
        "id": "kn9kJ5VWc925"
      }
    },
    {
      "cell_type": "code",
      "source": [
        "def pos_neg(num):\n",
        "  if num == 0:\n",
        "    print(\"Number entered is 0.\")\n",
        "  elif num > 0:\n",
        "    print(f'{num} is a positive number.')\n",
        "  else:\n",
        "    print(f'{num} is a negative number.')\n",
        "number = int(input(\"Enter a number: \"))\n",
        "pos_neg(number)"
      ],
      "metadata": {
        "colab": {
          "base_uri": "https://localhost:8080/"
        },
        "id": "QbQFYwoUdApd",
        "outputId": "69e50f96-9230-4eac-812c-b414ba2e20bf"
      },
      "execution_count": null,
      "outputs": [
        {
          "output_type": "stream",
          "name": "stdout",
          "text": [
            "Enter a number: 0\n",
            "Number entered is 0.\n"
          ]
        }
      ]
    },
    {
      "cell_type": "code",
      "source": [
        "def loops(num):\n",
        "  num_list = []\n",
        "  for i in range(num):\n",
        "    num_list.append(i)\n",
        "  list_len = len(num_list)\n",
        "  print(list_len)\n",
        "  j = 0\n",
        "  while j < list_len:\n",
        "    if num_list[j] == 10:\n",
        "      break\n",
        "    elif num_list[j] % 2 == 0:\n",
        "       print(num_list[j])\n",
        "    j += 1\n",
        "number = int(input(\"Enter a number: \"))\n",
        "loops(number)"
      ],
      "metadata": {
        "colab": {
          "base_uri": "https://localhost:8080/"
        },
        "id": "doDsGLU0d4UL",
        "outputId": "5125a274-8296-4fde-c74c-2bf3f009d9de"
      },
      "execution_count": null,
      "outputs": [
        {
          "output_type": "stream",
          "name": "stdout",
          "text": [
            "Enter a number: 20\n",
            "20\n",
            "0\n",
            "2\n",
            "4\n",
            "6\n",
            "8\n"
          ]
        }
      ]
    },
    {
      "cell_type": "markdown",
      "source": [
        "9.\tGiven a string \"The King is Dead, Long Live The King\".\t\t\n",
        "*   Print the complete string.\n",
        "*   Print first character of the string.\n",
        "*   Print characters starting from 3rd to 5th.\n",
        "*   Print string starting from 3rd character.\n",
        "*   Split the words.\n",
        "*   An array can be created from a list:  Create an array from a list comprising of numbers 1,4,5,8 (treat them as floats).Slice the above array to display first and second elements.\n",
        "\n",
        "\n"
      ],
      "metadata": {
        "id": "P2lgpH38f8IO"
      }
    },
    {
      "cell_type": "code",
      "source": [
        "str = \"The King is Dead, Long Live The King\"\n",
        "print(str)\n",
        "print(str[0])\n",
        "print(str[3:6])\n",
        "print(str[3:])\n",
        "print(str.split(\" \"))\n",
        "array = np.array([1, 4, 5, 8], dtype = \"float\")\n",
        "print(array[1:3])"
      ],
      "metadata": {
        "colab": {
          "base_uri": "https://localhost:8080/"
        },
        "id": "2WbFung_gTUj",
        "outputId": "b51d189a-bde5-41b5-9d5b-00361b5a16ad"
      },
      "execution_count": null,
      "outputs": [
        {
          "output_type": "stream",
          "name": "stdout",
          "text": [
            "The King is Dead, Long Live The King\n",
            "T\n",
            " Ki\n",
            " King is Dead, Long Live The King\n",
            "['The', 'King', 'is', 'Dead,', 'Long', 'Live', 'The', 'King']\n",
            "[4. 5.]\n"
          ]
        }
      ]
    },
    {
      "cell_type": "markdown",
      "source": [
        "10.\tArrays can be multidimensional. Create a two-dimensional array of (1,2,3) and (4,5,6)."
      ],
      "metadata": {
        "id": "WDevZRx5g-vy"
      }
    },
    {
      "cell_type": "code",
      "source": [
        "import numpy as np\n",
        "arr1 = np.array([[1, 2, 3], [4, 5, 6]])\n",
        "print(arr1)"
      ],
      "metadata": {
        "colab": {
          "base_uri": "https://localhost:8080/"
        },
        "id": "kB4GM_fmhBzp",
        "outputId": "01916dfb-c1e1-42f5-d0b9-e7c1bd64aceb"
      },
      "execution_count": null,
      "outputs": [
        {
          "output_type": "stream",
          "name": "stdout",
          "text": [
            "[[1 2 3]\n",
            " [4 5 6]]\n"
          ]
        }
      ]
    },
    {
      "cell_type": "markdown",
      "source": [
        "11.\tArray slicing works with multiple dimensions in the same way as usual, applying each slice specification as a filter to a specified dimension. Consider two-dimensional array of (1,2,3) and (4,5,6).\n",
        "*   Slice and display the 2nd row.\n",
        "*   Write code to display as array([2., 5.]) \n",
        "*   Find the length of the array."
      ],
      "metadata": {
        "id": "IePtaT_phRID"
      }
    },
    {
      "cell_type": "code",
      "source": [
        "print(arr1[1])\n",
        "arr2 = np.array([2., 5.])\n",
        "print(arr2)\n",
        "print(arr1.size)"
      ],
      "metadata": {
        "colab": {
          "base_uri": "https://localhost:8080/"
        },
        "id": "e5zXtqbhhgIV",
        "outputId": "94ed1930-4afc-4811-a9bf-47cb2b73626a"
      },
      "execution_count": null,
      "outputs": [
        {
          "output_type": "stream",
          "name": "stdout",
          "text": [
            "[4 5 6]\n",
            "[2. 5.]\n",
            "6\n"
          ]
        }
      ]
    },
    {
      "cell_type": "markdown",
      "source": [
        "12.\tArrays can be reshaped using tuples that specify new dimensions. Turn a ten-element one-dimensional array into a two-dimensional one whose first axis has five elements and whose second axis has two elements. Obtain the transpose of the array."
      ],
      "metadata": {
        "id": "319rTGdSiDsT"
      }
    },
    {
      "cell_type": "code",
      "source": [
        "np.random.seed(1)\n",
        "arr3 = np.random.randint(100, size = 10)\n",
        "print(arr3)\n",
        "arr4 = arr3.reshape(5, 2)\n",
        "print(arr4)\n",
        "print(arr4.transpose())"
      ],
      "metadata": {
        "colab": {
          "base_uri": "https://localhost:8080/"
        },
        "id": "8O8vy8rjiV36",
        "outputId": "d772c441-e703-4089-8d96-028bdd924601"
      },
      "execution_count": null,
      "outputs": [
        {
          "output_type": "stream",
          "name": "stdout",
          "text": [
            "[37 12 72  9 75  5 79 64 16  1]\n",
            "[[37 12]\n",
            " [72  9]\n",
            " [75  5]\n",
            " [79 64]\n",
            " [16  1]]\n",
            "[[37 72 75 79 16]\n",
            " [12  9  5 64  1]]\n"
          ]
        }
      ]
    },
    {
      "cell_type": "markdown",
      "source": [
        "13.\tCreate an array from a list of 1, 2 and 3."
      ],
      "metadata": {
        "id": "az1qhKUJjEaP"
      }
    },
    {
      "cell_type": "code",
      "source": [
        "arr5 = np.array([1, 2, 3])\n",
        "print(arr5)"
      ],
      "metadata": {
        "colab": {
          "base_uri": "https://localhost:8080/"
        },
        "id": "IhVDqbLAjHkg",
        "outputId": "d40bc8da-7648-41d6-d03d-0924510c9860"
      },
      "execution_count": null,
      "outputs": [
        {
          "output_type": "stream",
          "name": "stdout",
          "text": [
            "[1 2 3]\n"
          ]
        }
      ]
    },
    {
      "cell_type": "markdown",
      "source": [
        "14.\tFill an array [1,2,3] with a single value [9,9,9]. "
      ],
      "metadata": {
        "id": "oKiIPeSDjSlh"
      }
    },
    {
      "cell_type": "code",
      "source": [
        "arr5 = [9 for x in arr5]\n",
        "arr5"
      ],
      "metadata": {
        "colab": {
          "base_uri": "https://localhost:8080/"
        },
        "id": "T1hf4C4YjVYZ",
        "outputId": "ca5d0277-8d3b-459d-8b4f-ea0554993989"
      },
      "execution_count": null,
      "outputs": [
        {
          "output_type": "execute_result",
          "data": {
            "text/plain": [
              "[9, 9, 9]"
            ]
          },
          "metadata": {},
          "execution_count": 80
        }
      ]
    },
    {
      "cell_type": "markdown",
      "source": [
        "15.\tSum the elements of array [2,4,5]."
      ],
      "metadata": {
        "id": "EnwB6BppkPcg"
      }
    },
    {
      "cell_type": "code",
      "source": [
        "arr6 = np.array([2, 4, 5])\n",
        "print(arr6.sum())"
      ],
      "metadata": {
        "colab": {
          "base_uri": "https://localhost:8080/"
        },
        "id": "oJ7nmTDYkSs8",
        "outputId": "eae92161-7c33-40b2-8a86-93cb8a063cf3"
      },
      "execution_count": null,
      "outputs": [
        {
          "output_type": "stream",
          "name": "stdout",
          "text": [
            "11\n"
          ]
        }
      ]
    },
    {
      "cell_type": "markdown",
      "source": [
        "16.\tGive the products of array [77,74,75]"
      ],
      "metadata": {
        "id": "uPEy3uz1kaed"
      }
    },
    {
      "cell_type": "code",
      "source": [
        "arr7 = np.array([77, 74, 75])\n",
        "print(arr7.prod())"
      ],
      "metadata": {
        "colab": {
          "base_uri": "https://localhost:8080/"
        },
        "id": "H8vxBbM7kXYx",
        "outputId": "b1b2bf6f-ea58-4b11-a1dc-089020be8a9b"
      },
      "execution_count": null,
      "outputs": [
        {
          "output_type": "stream",
          "name": "stdout",
          "text": [
            "427350\n"
          ]
        }
      ]
    },
    {
      "cell_type": "markdown",
      "source": [
        "17.\tGiven an array [2, 1, 9, 1, 2, 22, 1, 1, 4, 55, 6, 2, 56]. Find mean, variance, max, min, argmin, median, argmax and standard deviation."
      ],
      "metadata": {
        "id": "9V2ywMcKk7eH"
      }
    },
    {
      "cell_type": "code",
      "source": [
        "arr8 = np.array([2, 1, 9, 1, 2, 22, 1, 1, 4, 55, 6, 2, 56])\n",
        "print(f'Mean: {arr8.mean()}')\n",
        "print(f'Variance: {arr8.var()}')\n",
        "print(f'Max: {arr8.max()}')\n",
        "print(f'Min: {arr8.min()}')\n",
        "print(f'Argmin: {arr8.argmin()}')\n",
        "print(f'Argmax: {arr8.argmax()}')\n",
        "print(f'Median: {np.median(arr8)}')\n",
        "print(f'Standard deviation: {arr8.std()}')"
      ],
      "metadata": {
        "colab": {
          "base_uri": "https://localhost:8080/"
        },
        "id": "MKvQjA-NlAf3",
        "outputId": "8b2ebb19-69c5-4db7-fd4d-2061fe792118"
      },
      "execution_count": null,
      "outputs": [
        {
          "output_type": "stream",
          "name": "stdout",
          "text": [
            "Mean: 12.461538461538462\n",
            "Variance: 367.32544378698225\n",
            "Max: 56\n",
            "Min: 1\n",
            "Argmin: 1\n",
            "Argmax: 12\n",
            "Median: 2.0\n",
            "Standard deviation: 19.165736192147232\n"
          ]
        }
      ]
    },
    {
      "cell_type": "markdown",
      "source": [
        "18.\tExtract unique elements from an array: [1, 1, 4, 5, 5, 5, 7] and sort it."
      ],
      "metadata": {
        "id": "RavXs4vdmE-O"
      }
    },
    {
      "cell_type": "code",
      "source": [
        "arr9 = np.array([2, 1, 1, 4, 5, 5, 5, 7])\n",
        "arr10 = np.unique(arr9)\n",
        "arr10.sort()\n",
        "print(arr10)"
      ],
      "metadata": {
        "colab": {
          "base_uri": "https://localhost:8080/"
        },
        "id": "gT8a7SwCmHn_",
        "outputId": "3c38950d-2765-4596-bd25-19ed5c52ec13"
      },
      "execution_count": null,
      "outputs": [
        {
          "output_type": "stream",
          "name": "stdout",
          "text": [
            "[1 2 4 5 7]\n"
          ]
        }
      ]
    },
    {
      "cell_type": "markdown",
      "source": [
        "19.\tFind dot product of two arrays [1, 2, 3] and [0, 1, 1]. "
      ],
      "metadata": {
        "id": "mjFUX-97mcHX"
      }
    },
    {
      "cell_type": "code",
      "source": [
        "a1 = np.array([1, 2, 3])\n",
        "a2 = np.array([0, 1, 2])\n",
        "print(a1.dot(a2))"
      ],
      "metadata": {
        "colab": {
          "base_uri": "https://localhost:8080/"
        },
        "id": "qgZPvCO6mgxJ",
        "outputId": "a514d8aa-eb13-4930-c7b6-cd6e62805c36"
      },
      "execution_count": null,
      "outputs": [
        {
          "output_type": "stream",
          "name": "stdout",
          "text": [
            "8\n"
          ]
        }
      ]
    },
    {
      "cell_type": "markdown",
      "source": [
        "20.\tFind the eigenvalues and eigenvectors of matrix A."
      ],
      "metadata": {
        "id": "bYbsTF6Cmz--"
      }
    },
    {
      "cell_type": "code",
      "source": [
        "a3 = np.array([[2, -12], [1, -5]])\n",
        "eigen = np.linalg.eig(a3)\n",
        "print(f'Eigenvalues: {eigen[0]}')\n",
        "print(f'Eigenvectors: {eigen[1]}')"
      ],
      "metadata": {
        "colab": {
          "base_uri": "https://localhost:8080/"
        },
        "id": "W7KJ1rNEm2jY",
        "outputId": "914a3670-dd1b-4e89-c609-2bc78f0c50ac"
      },
      "execution_count": null,
      "outputs": [
        {
          "output_type": "stream",
          "name": "stdout",
          "text": [
            "Eigenvalues: [-1. -2.]\n",
            "Eigenvectors: [[0.9701425  0.9486833 ]\n",
            " [0.24253563 0.31622777]]\n"
          ]
        }
      ]
    },
    {
      "cell_type": "markdown",
      "source": [
        "21. Given an array with [[11, 22, 11, 31], [25, 33, 31, 28]]. Treat as floats. Find the correlation coefficients."
      ],
      "metadata": {
        "id": "Tju_BQsVnqDA"
      }
    },
    {
      "cell_type": "code",
      "source": [
        "a4 = np.array([[11, 22, 11, 31], [25, 33, 31, 28]], dtype = \"float\")\n",
        "print(a4)\n",
        "print(np.corrcoef(a4))"
      ],
      "metadata": {
        "colab": {
          "base_uri": "https://localhost:8080/"
        },
        "id": "OFCiJzM5nxFI",
        "outputId": "c9984497-ced4-46ef-eb1b-dcb5288453bc"
      },
      "execution_count": null,
      "outputs": [
        {
          "output_type": "stream",
          "name": "stdout",
          "text": [
            "[[11. 22. 11. 31.]\n",
            " [25. 33. 31. 28.]]\n",
            "[[1.         0.15997968]\n",
            " [0.15997968 1.        ]]\n"
          ]
        }
      ]
    }
  ]
}