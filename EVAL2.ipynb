{
  "nbformat": 4,
  "nbformat_minor": 0,
  "metadata": {
    "colab": {
      "provenance": []
    },
    "kernelspec": {
      "name": "python3",
      "display_name": "Python 3"
    },
    "language_info": {
      "name": "python"
    }
  },
  "cells": [
    {
      "cell_type": "markdown",
      "source": [
        "Part A"
      ],
      "metadata": {
        "id": "mupMlEBVHxfN"
      }
    },
    {
      "cell_type": "markdown",
      "source": [
        "Mendel’s hypothesis: plants should bear purple or white flowers at random, in the ratio 3:1. i.e., For every plant, there is a 75% chance that it will have purple flowers, and a 25% chance that the flowers will be white, regardless of the colors in all the other plants. \n",
        "Mendel’s experiment: Mendel recorded the number of purple and white flowering plants. Among the 929 plants that he grew, assume 710 were purple flowering. \n",
        "Hypothesis Test: Carry out a hypothesis test to ascertain Mendel's model.\n"
      ],
      "metadata": {
        "id": "WRXwqwq7Kwr5"
      }
    },
    {
      "cell_type": "markdown",
      "source": [
        "1. Null Hypothesis: <br>\n",
        "Every plant bears either purple or white flowers at random in the ratio 3:1.\n",
        "\n",
        "Alternative Hypothesis: <br>\n",
        "Ratio of purple and white flowers is not 3:1. Or Mendel's model is wrong."
      ],
      "metadata": {
        "id": "ZMTezyJXIaWd"
      }
    },
    {
      "cell_type": "markdown",
      "source": [
        "We assume a binomial distribution where the probability of the plant having a purple flower is 0.75 and the probability of it having white is 0.25."
      ],
      "metadata": {
        "id": "QWjYvANRJWXX"
      }
    },
    {
      "cell_type": "code",
      "source": [
        "import scipy.stats as st\n",
        "import matplotlib.pyplot as plt\n",
        "import numpy as np\n",
        "import pandas as pd"
      ],
      "metadata": {
        "id": "AVRuaY4gJWHB"
      },
      "execution_count": 2,
      "outputs": []
    },
    {
      "cell_type": "code",
      "execution_count": 100,
      "metadata": {
        "id": "riMeoJWgHwxE"
      },
      "outputs": [],
      "source": [
        "flower_prob = [0.75, 0.25]\n",
        "predicted_purple = 710 - 696.75\n",
        "predicted_white = abs(219 - 232.25)"
      ]
    },
    {
      "cell_type": "markdown",
      "source": [
        "In his sample of 929 flowers, 710 were purple flowers and the remaining 219 were white. So, these values represent the observed values. Now let us take a random sample of 929 plants and find the number of purple and white flowers."
      ],
      "metadata": {
        "id": "tUptuz12Jho8"
      }
    },
    {
      "cell_type": "markdown",
      "source": [
        "2. The statistic that can be used is the total variation distance between the number of possible flowers under his model and the expected number according to his model."
      ],
      "metadata": {
        "id": "SJPh0JdEO9Q3"
      }
    },
    {
      "cell_type": "markdown",
      "source": [
        "3. The observed statistic is 696.75 for purple and 232.25 for white."
      ],
      "metadata": {
        "id": "H0Zo3RLJPQbh"
      }
    },
    {
      "cell_type": "markdown",
      "source": [
        "4. The test statistic is simulated below:"
      ],
      "metadata": {
        "id": "8t8oUeF8PUN-"
      }
    },
    {
      "cell_type": "code",
      "source": [
        "simulations = 2000 - 205\n",
        "f_tvd = []\n",
        "for i in range(simulations):\n",
        "  flowers = np.random.multinomial(929, flower_prob, simulations)\n",
        "for p, w in flowers:\n",
        "  f_tvd.append([abs(p-696.75), abs(w-232.25)])"
      ],
      "metadata": {
        "id": "9zu9-mOdJ9XP"
      },
      "execution_count": 95,
      "outputs": []
    },
    {
      "cell_type": "code",
      "source": [
        "flower_df = pd.DataFrame(f_tvd, columns = [\"Purple\", \"White\"])\n",
        "flower_df.head()"
      ],
      "metadata": {
        "colab": {
          "base_uri": "https://localhost:8080/",
          "height": 206
        },
        "id": "VtzUm7vZKfpS",
        "outputId": "4f1206a3-94f4-4e6e-f290-e2ed291b0b05"
      },
      "execution_count": 96,
      "outputs": [
        {
          "output_type": "execute_result",
          "data": {
            "text/plain": [
              "   Purple  White\n",
              "0    4.75   4.75\n",
              "1    4.25   4.25\n",
              "2   15.25  15.25\n",
              "3    6.25   6.25\n",
              "4    7.75   7.75"
            ],
            "text/html": [
              "\n",
              "  <div id=\"df-f8908bc1-2dad-4e4d-afa5-2a7a47f4c3fd\">\n",
              "    <div class=\"colab-df-container\">\n",
              "      <div>\n",
              "<style scoped>\n",
              "    .dataframe tbody tr th:only-of-type {\n",
              "        vertical-align: middle;\n",
              "    }\n",
              "\n",
              "    .dataframe tbody tr th {\n",
              "        vertical-align: top;\n",
              "    }\n",
              "\n",
              "    .dataframe thead th {\n",
              "        text-align: right;\n",
              "    }\n",
              "</style>\n",
              "<table border=\"1\" class=\"dataframe\">\n",
              "  <thead>\n",
              "    <tr style=\"text-align: right;\">\n",
              "      <th></th>\n",
              "      <th>Purple</th>\n",
              "      <th>White</th>\n",
              "    </tr>\n",
              "  </thead>\n",
              "  <tbody>\n",
              "    <tr>\n",
              "      <th>0</th>\n",
              "      <td>4.75</td>\n",
              "      <td>4.75</td>\n",
              "    </tr>\n",
              "    <tr>\n",
              "      <th>1</th>\n",
              "      <td>4.25</td>\n",
              "      <td>4.25</td>\n",
              "    </tr>\n",
              "    <tr>\n",
              "      <th>2</th>\n",
              "      <td>15.25</td>\n",
              "      <td>15.25</td>\n",
              "    </tr>\n",
              "    <tr>\n",
              "      <th>3</th>\n",
              "      <td>6.25</td>\n",
              "      <td>6.25</td>\n",
              "    </tr>\n",
              "    <tr>\n",
              "      <th>4</th>\n",
              "      <td>7.75</td>\n",
              "      <td>7.75</td>\n",
              "    </tr>\n",
              "  </tbody>\n",
              "</table>\n",
              "</div>\n",
              "      <button class=\"colab-df-convert\" onclick=\"convertToInteractive('df-f8908bc1-2dad-4e4d-afa5-2a7a47f4c3fd')\"\n",
              "              title=\"Convert this dataframe to an interactive table.\"\n",
              "              style=\"display:none;\">\n",
              "        \n",
              "  <svg xmlns=\"http://www.w3.org/2000/svg\" height=\"24px\"viewBox=\"0 0 24 24\"\n",
              "       width=\"24px\">\n",
              "    <path d=\"M0 0h24v24H0V0z\" fill=\"none\"/>\n",
              "    <path d=\"M18.56 5.44l.94 2.06.94-2.06 2.06-.94-2.06-.94-.94-2.06-.94 2.06-2.06.94zm-11 1L8.5 8.5l.94-2.06 2.06-.94-2.06-.94L8.5 2.5l-.94 2.06-2.06.94zm10 10l.94 2.06.94-2.06 2.06-.94-2.06-.94-.94-2.06-.94 2.06-2.06.94z\"/><path d=\"M17.41 7.96l-1.37-1.37c-.4-.4-.92-.59-1.43-.59-.52 0-1.04.2-1.43.59L10.3 9.45l-7.72 7.72c-.78.78-.78 2.05 0 2.83L4 21.41c.39.39.9.59 1.41.59.51 0 1.02-.2 1.41-.59l7.78-7.78 2.81-2.81c.8-.78.8-2.07 0-2.86zM5.41 20L4 18.59l7.72-7.72 1.47 1.35L5.41 20z\"/>\n",
              "  </svg>\n",
              "      </button>\n",
              "      \n",
              "  <style>\n",
              "    .colab-df-container {\n",
              "      display:flex;\n",
              "      flex-wrap:wrap;\n",
              "      gap: 12px;\n",
              "    }\n",
              "\n",
              "    .colab-df-convert {\n",
              "      background-color: #E8F0FE;\n",
              "      border: none;\n",
              "      border-radius: 50%;\n",
              "      cursor: pointer;\n",
              "      display: none;\n",
              "      fill: #1967D2;\n",
              "      height: 32px;\n",
              "      padding: 0 0 0 0;\n",
              "      width: 32px;\n",
              "    }\n",
              "\n",
              "    .colab-df-convert:hover {\n",
              "      background-color: #E2EBFA;\n",
              "      box-shadow: 0px 1px 2px rgba(60, 64, 67, 0.3), 0px 1px 3px 1px rgba(60, 64, 67, 0.15);\n",
              "      fill: #174EA6;\n",
              "    }\n",
              "\n",
              "    [theme=dark] .colab-df-convert {\n",
              "      background-color: #3B4455;\n",
              "      fill: #D2E3FC;\n",
              "    }\n",
              "\n",
              "    [theme=dark] .colab-df-convert:hover {\n",
              "      background-color: #434B5C;\n",
              "      box-shadow: 0px 1px 3px 1px rgba(0, 0, 0, 0.15);\n",
              "      filter: drop-shadow(0px 1px 2px rgba(0, 0, 0, 0.3));\n",
              "      fill: #FFFFFF;\n",
              "    }\n",
              "  </style>\n",
              "\n",
              "      <script>\n",
              "        const buttonEl =\n",
              "          document.querySelector('#df-f8908bc1-2dad-4e4d-afa5-2a7a47f4c3fd button.colab-df-convert');\n",
              "        buttonEl.style.display =\n",
              "          google.colab.kernel.accessAllowed ? 'block' : 'none';\n",
              "\n",
              "        async function convertToInteractive(key) {\n",
              "          const element = document.querySelector('#df-f8908bc1-2dad-4e4d-afa5-2a7a47f4c3fd');\n",
              "          const dataTable =\n",
              "            await google.colab.kernel.invokeFunction('convertToInteractive',\n",
              "                                                     [key], {});\n",
              "          if (!dataTable) return;\n",
              "\n",
              "          const docLinkHtml = 'Like what you see? Visit the ' +\n",
              "            '<a target=\"_blank\" href=https://colab.research.google.com/notebooks/data_table.ipynb>data table notebook</a>'\n",
              "            + ' to learn more about interactive tables.';\n",
              "          element.innerHTML = '';\n",
              "          dataTable['output_type'] = 'display_data';\n",
              "          await google.colab.output.renderOutput(dataTable, element);\n",
              "          const docLink = document.createElement('div');\n",
              "          docLink.innerHTML = docLinkHtml;\n",
              "          element.appendChild(docLink);\n",
              "        }\n",
              "      </script>\n",
              "    </div>\n",
              "  </div>\n",
              "  "
            ]
          },
          "metadata": {},
          "execution_count": 96
        }
      ]
    },
    {
      "cell_type": "markdown",
      "source": [
        "5. The model of random selection is depicted below with the observed value represented as a red dot."
      ],
      "metadata": {
        "id": "KQi9o1uSPYnR"
      }
    },
    {
      "cell_type": "code",
      "source": [
        "#flower_df[\"Purple\"].hist()\n",
        "plt.plot(predicted_purple, 1, color='r', marker='o')\n",
        "plt.hist(flower_df[\"Purple\"], bins=20)\n",
        "plt.title(\"Purple Flowers\")\n",
        "plt.xlabel(\"Count\")\n",
        "plt.ylabel(\"Unit\")\n",
        "plt.show()"
      ],
      "metadata": {
        "colab": {
          "base_uri": "https://localhost:8080/",
          "height": 295
        },
        "id": "afnDtLHkK2cp",
        "outputId": "142565fc-2c62-497c-afab-82372d4e3c40"
      },
      "execution_count": 98,
      "outputs": [
        {
          "output_type": "display_data",
          "data": {
            "text/plain": [
              "<Figure size 432x288 with 1 Axes>"
            ],
            "image/png": "[encoded data removed]"
          },
          "metadata": {
            "needs_background": "light"
          }
        }
      ]
    },
    {
      "cell_type": "code",
      "source": [
        "flower_df[\"White\"].hist()\n",
        "plt.title(\"White Flowers\")\n",
        "plt.xlabel(\"Count\")\n",
        "plt.ylabel(\"Unit\")\n",
        "plt.plot(predicted_white, 1, color='r', marker='o')\n",
        "plt.show()"
      ],
      "metadata": {
        "colab": {
          "base_uri": "https://localhost:8080/",
          "height": 295
        },
        "id": "R4QyEo4oMP_c",
        "outputId": "cc9ce118-64d8-4630-b901-fadfd5016c4a"
      },
      "execution_count": 101,
      "outputs": [
        {
          "output_type": "display_data",
          "data": {
            "text/plain": [
              "<Figure size 432x288 with 1 Axes>"
            ],
            "image/png": "[encoded data removed]"
          },
          "metadata": {
            "needs_background": "light"
          }
        }
      ]
    },
    {
      "cell_type": "markdown",
      "source": [
        "6. Since the observed number of purple flowers is consistent with the predicted values under the null hypothesis and the observed number of white flowers is also consistent with the predicted number of white flowers, we can conclude that we failed to reject the null hypothesis. This means that the Mendel's model holds good."
      ],
      "metadata": {
        "id": "wbmgr0H7PzGj"
      }
    },
    {
      "cell_type": "markdown",
      "source": [
        "Part B"
      ],
      "metadata": {
        "id": "cUx_lZx2QUKc"
      }
    },
    {
      "cell_type": "markdown",
      "source": [
        "Null hypothesis: μ = 60 <br>\n",
        "Alternative hypothesis: μ != 60 <br>\n",
        "Since population standard deviation is given, we can use z-test."
      ],
      "metadata": {
        "id": "--vsBa5gRiHm"
      }
    },
    {
      "cell_type": "code",
      "source": [
        "sigma = 13.46\n",
        "x_bar = 65.10\n",
        "mu = 60\n",
        "n = 30\n",
        "alpha = 0.05"
      ],
      "metadata": {
        "id": "ypTiYBsiQVQB"
      },
      "execution_count": 82,
      "outputs": []
    },
    {
      "cell_type": "code",
      "source": [
        "z_critical = st.norm.ppf(1-alpha/2)\n",
        "print(f'Critical Value: {z_critical}')"
      ],
      "metadata": {
        "colab": {
          "base_uri": "https://localhost:8080/"
        },
        "id": "uryeJ9BhR3n_",
        "outputId": "762c2416-c818-4740-89e0-133b0807fda7"
      },
      "execution_count": 84,
      "outputs": [
        {
          "output_type": "stream",
          "name": "stdout",
          "text": [
            "Critical Value: 1.959963984540054\n"
          ]
        }
      ]
    },
    {
      "cell_type": "code",
      "source": [
        "# Test Statistic\n",
        "z = (x_bar - mu)/(sigma/np.sqrt(n))\n",
        "print(f'Test Statistic: {z}')"
      ],
      "metadata": {
        "colab": {
          "base_uri": "https://localhost:8080/"
        },
        "id": "cZTu97QNR9Uy",
        "outputId": "1abbfec3-3604-4e3e-b510-3621b3db2831"
      },
      "execution_count": 89,
      "outputs": [
        {
          "output_type": "stream",
          "name": "stdout",
          "text": [
            "Test Statistic: 2.075323211943792\n"
          ]
        }
      ]
    },
    {
      "cell_type": "code",
      "source": [
        "if z > z_critical:\n",
        "  print(\"Reject the null hypothesis.\")\n",
        "else:\n",
        "  print(\"Fail to reject null hypothesis.\")"
      ],
      "metadata": {
        "colab": {
          "base_uri": "https://localhost:8080/"
        },
        "id": "xkfFPXurSO01",
        "outputId": "3e6a12ba-c5b0-49a8-b564-71b4e9b6d264"
      },
      "execution_count": 91,
      "outputs": [
        {
          "output_type": "stream",
          "name": "stdout",
          "text": [
            "Reject the null hypothesis.\n"
          ]
        }
      ]
    }
  ]
}